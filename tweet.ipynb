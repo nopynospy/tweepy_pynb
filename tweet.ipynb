{
 "metadata": {
  "language_info": {
   "codemirror_mode": {
    "name": "ipython",
    "version": 3
   },
   "file_extension": ".py",
   "mimetype": "text/x-python",
   "name": "python",
   "nbconvert_exporter": "python",
   "pygments_lexer": "ipython3",
   "version": "3.8.9-final"
  },
  "orig_nbformat": 2,
  "kernelspec": {
   "name": "python389jvsc74a57bd0ad8d9f444d7e3e0d89b3c9140c11da621c41410a60b1c87757375a3eb2721b9d",
   "display_name": "Python 3.8.9 64-bit ('venv')"
  },
  "metadata": {
   "interpreter": {
    "hash": "ad8d9f444d7e3e0d89b3c9140c11da621c41410a60b1c87757375a3eb2721b9d"
   }
  }
 },
 "nbformat": 4,
 "nbformat_minor": 2,
 "cells": [
  {
   "cell_type": "code",
   "execution_count": 6,
   "metadata": {},
   "outputs": [],
   "source": [
    "import pandas as pd\n",
    "from tweet import tweet_func "
   ]
  },
  {
   "cell_type": "code",
   "execution_count": 7,
   "metadata": {},
   "outputs": [
    {
     "output_type": "stream",
     "name": "stdout",
     "text": [
      "Added to tweet.csv\n"
     ]
    }
   ],
   "source": [
    "tweet_func()"
   ]
  },
  {
   "cell_type": "code",
   "execution_count": 8,
   "metadata": {},
   "outputs": [
    {
     "output_type": "execute_result",
     "data": {
      "text/plain": [
       "      query                        time  total_polarity  total_subjectivity\n",
       "0  Malaysia  2021-04-14 12:15:58.744939        0.063333            0.185556\n",
       "1  Malaysia  2021-04-14 12:16:04.620202        0.063333            0.185556\n",
       "2  Malaysia  2021-04-14 12:59:58.602368        0.128056            0.312778"
      ],
      "text/html": "<div>\n<style scoped>\n    .dataframe tbody tr th:only-of-type {\n        vertical-align: middle;\n    }\n\n    .dataframe tbody tr th {\n        vertical-align: top;\n    }\n\n    .dataframe thead th {\n        text-align: right;\n    }\n</style>\n<table border=\"1\" class=\"dataframe\">\n  <thead>\n    <tr style=\"text-align: right;\">\n      <th></th>\n      <th>query</th>\n      <th>time</th>\n      <th>total_polarity</th>\n      <th>total_subjectivity</th>\n    </tr>\n  </thead>\n  <tbody>\n    <tr>\n      <th>0</th>\n      <td>Malaysia</td>\n      <td>2021-04-14 12:15:58.744939</td>\n      <td>0.063333</td>\n      <td>0.185556</td>\n    </tr>\n    <tr>\n      <th>1</th>\n      <td>Malaysia</td>\n      <td>2021-04-14 12:16:04.620202</td>\n      <td>0.063333</td>\n      <td>0.185556</td>\n    </tr>\n    <tr>\n      <th>2</th>\n      <td>Malaysia</td>\n      <td>2021-04-14 12:59:58.602368</td>\n      <td>0.128056</td>\n      <td>0.312778</td>\n    </tr>\n  </tbody>\n</table>\n</div>"
     },
     "metadata": {},
     "execution_count": 8
    }
   ],
   "source": [
    "data = pd.read_csv(\"tweet.csv\")\n",
    "data.head()"
   ]
  },
  {
   "cell_type": "code",
   "execution_count": null,
   "metadata": {},
   "outputs": [],
   "source": []
  }
 ]
}